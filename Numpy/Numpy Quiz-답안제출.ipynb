{
  "cells": [
    {
      "cell_type": "code",
      "execution_count": 1,
      "id": "7d34f957",
      "metadata": {
        "id": "7d34f957"
      },
      "outputs": [],
      "source": [
        "# 필요한 라이브러리를 불러옵니다.\n",
        "import numpy as np"
      ]
    },
    {
      "cell_type": "markdown",
      "id": "e35027db",
      "metadata": {
        "id": "e35027db"
      },
      "source": [
        "### 1. 값이 10~49인 numpy array를 만드세요"
      ]
    },
    {
      "cell_type": "code",
      "execution_count": 2,
      "id": "186a443c",
      "metadata": {
        "id": "186a443c",
        "outputId": "14b5bd66-1874-4d05-976e-00814d7c7150",
        "colab": {
          "base_uri": "https://localhost:8080/"
        }
      },
      "outputs": [
        {
          "output_type": "stream",
          "name": "stdout",
          "text": [
            "[10 11 12 13 14 15 16 17 18 19 20 21 22 23 24 25 26 27 28 29 30 31 32 33\n",
            " 34 35 36 37 38 39 40 41 42 43 44 45 46 47 48 49]\n"
          ]
        }
      ],
      "source": [
        "z = np.arange(10,50,1) # arrange(시작,끝,단계)\n",
        "print(z)"
      ]
    },
    {
      "cell_type": "markdown",
      "id": "7fe92102",
      "metadata": {
        "id": "7fe92102"
      },
      "source": [
        "### 2. z를 반전하세요."
      ]
    },
    {
      "cell_type": "code",
      "execution_count": 3,
      "id": "f78638fa",
      "metadata": {
        "id": "f78638fa",
        "outputId": "814cda9b-7cdc-4319-b0a6-717670cb8fa1",
        "colab": {
          "base_uri": "https://localhost:8080/"
        }
      },
      "outputs": [
        {
          "output_type": "stream",
          "name": "stdout",
          "text": [
            "[49 48 47 46 45 44 43 42 41 40 39 38 37 36 35 34 33 32 31 30 29 28 27 26\n",
            " 25 24 23 22 21 20 19 18 17 16 15 14 13 12 11 10]\n"
          ]
        }
      ],
      "source": [
        "z = np.arange(49,9,-1)\n",
        "print(z)"
      ]
    },
    {
      "cell_type": "markdown",
      "id": "a04b347c",
      "metadata": {
        "id": "a04b347c"
      },
      "source": [
        "### 3. 반전시킨 z 매트릭스를 10 x 4 매트릭스로 바꾸세요."
      ]
    },
    {
      "cell_type": "code",
      "execution_count": 4,
      "id": "fcf79ba9",
      "metadata": {
        "id": "fcf79ba9",
        "outputId": "68278239-7894-40ce-b1d7-e5df72b8e46e",
        "colab": {
          "base_uri": "https://localhost:8080/"
        }
      },
      "outputs": [
        {
          "output_type": "stream",
          "name": "stdout",
          "text": [
            "[[49 48 47 46]\n",
            " [45 44 43 42]\n",
            " [41 40 39 38]\n",
            " [37 36 35 34]\n",
            " [33 32 31 30]\n",
            " [29 28 27 26]\n",
            " [25 24 23 22]\n",
            " [21 20 19 18]\n",
            " [17 16 15 14]\n",
            " [13 12 11 10]]\n"
          ]
        }
      ],
      "source": [
        "z = z.reshape(10,4) # reshape(outer,inner)\n",
        "print(z)"
      ]
    },
    {
      "cell_type": "markdown",
      "id": "a8fb1466",
      "metadata": {
        "id": "a8fb1466"
      },
      "source": [
        "### 4. x에서 0이 아닌 요소의 색인을 찾아보세요."
      ]
    },
    {
      "cell_type": "code",
      "source": [
        "x = np.array([5,6,8,0,1,0,7])\n",
        "nz_idx =np.where(x!=0)\n",
        "print(nz_idx)"
      ],
      "metadata": {
        "id": "DNFeuI2AdLMN",
        "outputId": "d380c589-d5cc-45bd-9a80-acfa0660d7c4",
        "colab": {
          "base_uri": "https://localhost:8080/"
        }
      },
      "id": "DNFeuI2AdLMN",
      "execution_count": 5,
      "outputs": [
        {
          "output_type": "stream",
          "name": "stdout",
          "text": [
            "(array([0, 1, 2, 4, 6]),)\n"
          ]
        }
      ]
    },
    {
      "cell_type": "markdown",
      "id": "fb98a12e",
      "metadata": {
        "id": "fb98a12e"
      },
      "source": [
        "### nan 값 이해하기\n",
        "\n"
      ]
    },
    {
      "cell_type": "code",
      "execution_count": 6,
      "id": "7d12b519",
      "metadata": {
        "id": "7d12b519",
        "outputId": "1618639f-a18d-4acc-a9d0-0b84c39c157f",
        "colab": {
          "base_uri": "https://localhost:8080/"
        }
      },
      "outputs": [
        {
          "output_type": "stream",
          "name": "stdout",
          "text": [
            "False\n",
            "True\n",
            "False\n",
            "True\n"
          ]
        }
      ],
      "source": [
        "print(np.nan == np.nan)\n",
        "print(np.isnan(np.nan))\n",
        "\n",
        "import math\n",
        "print(0.3 == 3 * 0.1)\n",
        "print(math.isclose(0.1 + 0.2, 0.3))"
      ]
    },
    {
      "cell_type": "markdown",
      "id": "87f765ae",
      "metadata": {
        "id": "87f765ae"
      },
      "source": [
        "### 5. 12 x 12 매트릭스를 만들어 바둑판 패턴으로 0과 1을 채우세요"
      ]
    },
    {
      "cell_type": "code",
      "execution_count": 7,
      "id": "c5dade12",
      "metadata": {
        "id": "c5dade12",
        "outputId": "3624c56c-f36b-42b3-8603-147b0914d026",
        "colab": {
          "base_uri": "https://localhost:8080/"
        }
      },
      "outputs": [
        {
          "output_type": "stream",
          "name": "stdout",
          "text": [
            "[[0 0 0 0 0 0 0 0 0 0 0 0]\n",
            " [0 0 0 0 0 0 0 0 0 0 0 0]\n",
            " [0 0 0 0 0 0 0 0 0 0 0 0]\n",
            " [0 0 0 0 0 0 0 0 0 0 0 0]\n",
            " [0 0 0 0 0 0 0 0 0 0 0 0]\n",
            " [0 0 0 0 0 0 0 0 0 0 0 0]\n",
            " [0 0 0 0 0 0 0 0 0 0 0 0]\n",
            " [0 0 0 0 0 0 0 0 0 0 0 0]\n",
            " [0 0 0 0 0 0 0 0 0 0 0 0]\n",
            " [0 0 0 0 0 0 0 0 0 0 0 0]\n",
            " [0 0 0 0 0 0 0 0 0 0 0 0]\n",
            " [0 0 0 0 0 0 0 0 0 0 0 0]]\n",
            "\n",
            "[[0 1 0 1 0 1 0 1 0 1 0 1]\n",
            " [1 0 1 0 1 0 1 0 1 0 1 0]\n",
            " [0 1 0 1 0 1 0 1 0 1 0 1]\n",
            " [1 0 1 0 1 0 1 0 1 0 1 0]\n",
            " [0 1 0 1 0 1 0 1 0 1 0 1]\n",
            " [1 0 1 0 1 0 1 0 1 0 1 0]\n",
            " [0 1 0 1 0 1 0 1 0 1 0 1]\n",
            " [1 0 1 0 1 0 1 0 1 0 1 0]\n",
            " [0 1 0 1 0 1 0 1 0 1 0 1]\n",
            " [1 0 1 0 1 0 1 0 1 0 1 0]\n",
            " [0 1 0 1 0 1 0 1 0 1 0 1]\n",
            " [1 0 1 0 1 0 1 0 1 0 1 0]]\n"
          ]
        }
      ],
      "source": [
        "x = np.zeros((12, 12),dtype=int)\n",
        "print(x, end='\\n\\n')\n",
        "###############\n",
        "# 슬라이싱을 사용하세요\n",
        "x[0:12:2,1:12:2] = 1\n",
        "x[1:12:2,0:12:2] = 1\n",
        "\n",
        "###############\n",
        "print(x)"
      ]
    },
    {
      "cell_type": "markdown",
      "id": "8765875e",
      "metadata": {
        "id": "8765875e"
      },
      "source": [
        "### 6. np.tile 을 이용해서 동일한 바둑판 배턴을 만들어보세요"
      ]
    },
    {
      "cell_type": "code",
      "source": [
        "x = np.array([[0,1],[1,0]]) # 0110 2x2 배열 생성\n",
        "x = np.tile(x,(6,6)) # 만든 패턴 x을 x,y 방향으로 괄호만큼 복제\n",
        "print(x)"
      ],
      "metadata": {
        "id": "WHLK_HIXUAYX",
        "outputId": "fee59c9e-f47e-4341-d183-947a83c0c004",
        "colab": {
          "base_uri": "https://localhost:8080/"
        }
      },
      "id": "WHLK_HIXUAYX",
      "execution_count": 8,
      "outputs": [
        {
          "output_type": "stream",
          "name": "stdout",
          "text": [
            "[[0 1 0 1 0 1 0 1 0 1 0 1]\n",
            " [1 0 1 0 1 0 1 0 1 0 1 0]\n",
            " [0 1 0 1 0 1 0 1 0 1 0 1]\n",
            " [1 0 1 0 1 0 1 0 1 0 1 0]\n",
            " [0 1 0 1 0 1 0 1 0 1 0 1]\n",
            " [1 0 1 0 1 0 1 0 1 0 1 0]\n",
            " [0 1 0 1 0 1 0 1 0 1 0 1]\n",
            " [1 0 1 0 1 0 1 0 1 0 1 0]\n",
            " [0 1 0 1 0 1 0 1 0 1 0 1]\n",
            " [1 0 1 0 1 0 1 0 1 0 1 0]\n",
            " [0 1 0 1 0 1 0 1 0 1 0 1]\n",
            " [1 0 1 0 1 0 1 0 1 0 1 0]]\n"
          ]
        }
      ]
    },
    {
      "cell_type": "markdown",
      "id": "b1a5847c",
      "metadata": {
        "id": "b1a5847c"
      },
      "source": [
        "### 7. 1차원 배열이 x에서 값이 5~10인 요소를 0으로 바꾸세요"
      ]
    },
    {
      "cell_type": "code",
      "source": [
        "x = np.array([2,5,3,8,3,34,23,7,10])\n",
        "print(x)\n",
        "##################\n",
        "# 필터링을 사용하세요.\n",
        "# for,if 구문 조합으로 해당 요소 검출하여 변경\n",
        "j=0\n",
        "for i in x:\n",
        "    if i>=5:\n",
        "        if i<=10:\n",
        "            x[j] = 0\n",
        "    j +=1\n",
        "##################\n",
        "print(x)"
      ],
      "metadata": {
        "id": "EyMrBSf4Xqi-",
        "outputId": "f94259ab-4f2c-4bf4-a14f-2a6dbaabca60",
        "colab": {
          "base_uri": "https://localhost:8080/"
        }
      },
      "id": "EyMrBSf4Xqi-",
      "execution_count": 9,
      "outputs": [
        {
          "output_type": "stream",
          "name": "stdout",
          "text": [
            "[ 2  5  3  8  3 34 23  7 10]\n",
            "[ 2  0  3  0  3 34 23  0  0]\n"
          ]
        }
      ]
    },
    {
      "cell_type": "markdown",
      "id": "d5bd1501",
      "metadata": {
        "id": "d5bd1501"
      },
      "source": [
        "### 8. 0에서 100 사이의 값으로 크기가 10인 1차원 array를 만드세요"
      ]
    },
    {
      "cell_type": "code",
      "source": [
        "x = np.arange(0,100.,11.111111111)\n",
        "print(x)"
      ],
      "metadata": {
        "id": "J-f6I4cphTfo",
        "outputId": "750b2df0-3d2d-4ba9-863e-35c6ebe0f0dc",
        "colab": {
          "base_uri": "https://localhost:8080/"
        }
      },
      "id": "J-f6I4cphTfo",
      "execution_count": 10,
      "outputs": [
        {
          "output_type": "stream",
          "name": "stdout",
          "text": [
            "[  0.          11.11111111  22.22222222  33.33333333  44.44444444\n",
            "  55.55555555  66.66666667  77.77777778  88.88888889 100.        ]\n"
          ]
        }
      ]
    },
    {
      "cell_type": "markdown",
      "id": "143e78e1",
      "metadata": {
        "id": "143e78e1"
      },
      "source": [
        "### 9. np.allclose() 함수를 사용하여 2개의 array가 같은지를 확인해보세요"
      ]
    },
    {
      "cell_type": "code",
      "source": [
        "A = np.array([1e10,1e-8])\n",
        "B = np.array([1.00001e10,1e-9])\n",
        "\n",
        "equal = np.allclose(A,B)\n",
        "print(equal)"
      ],
      "metadata": {
        "id": "JSR_rQKwk-DO",
        "outputId": "db2228e5-13d7-4950-bf59-9b448096a116",
        "colab": {
          "base_uri": "https://localhost:8080/"
        }
      },
      "id": "JSR_rQKwk-DO",
      "execution_count": 11,
      "outputs": [
        {
          "output_type": "stream",
          "name": "stdout",
          "text": [
            "True\n"
          ]
        }
      ]
    },
    {
      "cell_type": "markdown",
      "id": "26819557",
      "metadata": {
        "id": "26819557"
      },
      "source": [
        "### 10. 데카르트 좌표를 나타내는 랜덤 8 x 2 행렬을 고려하여 극좌표로 변환해보세요."
      ]
    },
    {
      "cell_type": "code",
      "source": [
        "coord = np.random.random((10,2))\n",
        "x, y = coord[:,0], coord[:,1]\n",
        "r = np.hypot(x,y) # 길이가 x,y인 빗변을 구하는 함수 // (x^2+y^2)^0.5\n",
        "theta = np.arctan2(y,x) # 함수는 두 개의 인자 x와 y를 받아서 arctan(y/x) 값을 계산하고 반환하는 함수 // x와 y의 부호를 고려하여 올바른 사분면에 있는 각도를 반환하도록 설계\n",
        "ploar_coord = np.concatenate([r[:,np.newaxis], theta[:,np.newaxis]],axis=1)\n",
        "print(ploar_coord)"
      ],
      "metadata": {
        "id": "GmlJ-j6Kn6WQ",
        "outputId": "88cd7123-0219-4766-c30f-cb6fe08404e2",
        "colab": {
          "base_uri": "https://localhost:8080/"
        }
      },
      "id": "GmlJ-j6Kn6WQ",
      "execution_count": 12,
      "outputs": [
        {
          "output_type": "stream",
          "name": "stdout",
          "text": [
            "[[0.58593107 0.12759168]\n",
            " [0.72764104 1.30602896]\n",
            " [1.01344361 1.02437933]\n",
            " [0.85806948 0.28192031]\n",
            " [0.71667931 1.27588537]\n",
            " [0.57474434 1.44401771]\n",
            " [0.54910278 1.16753608]\n",
            " [0.78841428 1.4369258 ]\n",
            " [0.48616716 0.09721567]\n",
            " [0.55355192 0.50111666]]\n"
          ]
        }
      ]
    }
  ],
  "metadata": {
    "kernelspec": {
      "display_name": "Python 3 (ipykernel)",
      "language": "python",
      "name": "python3"
    },
    "language_info": {
      "codemirror_mode": {
        "name": "ipython",
        "version": 3
      },
      "file_extension": ".py",
      "mimetype": "text/x-python",
      "name": "python",
      "nbconvert_exporter": "python",
      "pygments_lexer": "ipython3",
      "version": "3.8.0"
    },
    "colab": {
      "provenance": []
    }
  },
  "nbformat": 4,
  "nbformat_minor": 5
}